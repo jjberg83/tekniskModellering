{
 "cells": [
  {
   "cell_type": "code",
   "execution_count": 1,
   "id": "9981d773",
   "metadata": {},
   "outputs": [],
   "source": [
    "import numpy as np\n",
    "import matplotlib.pyplot as plt"
   ]
  },
  {
   "cell_type": "code",
   "execution_count": 126,
   "id": "775d407a",
   "metadata": {},
   "outputs": [],
   "source": [
    "class duple:\n",
    "    '''\n",
    "    Class for automatic differentiation\n",
    "    top: function value\n",
    "    bottom: derivative of function\n",
    "    '''\n",
    "\n",
    "    def __init__(self,top, bottom=0):\n",
    "        self.top = top\n",
    "        self.bottom = bottom\n",
    "        \n",
    "    # (f(x) + g(x))′ = f′(x) + g′(x)  \n",
    "    # u+v, u'+v' \n",
    "    # (u+v)' = u' + v'\n",
    "    def __add__(self,other): \n",
    "        return duple(self.top + other.top, self.bottom + other.bottom)\n",
    "    \n",
    "    def __sub__(self,other): #u-v, u'-v'\n",
    "        return duple(self.top - other.top, self.bottom - other.bottom)\n",
    "    \n",
    "    #(f(x) · g(x))′ \n",
    "    # = f′(x) · g(x) + f(x) · g′(x)\n",
    "    #use normal multiplication for the top, and equation (11) for the bottom.\n",
    "    \n",
    "    \n",
    "    def __mul__(self,other): \n",
    "        return duple(self.top * other.top ,self.bottom * other.top + self.top * other.bottom)\n",
    "    \n",
    "    # se derivasjonsregel for (a/b)' = (a'*b - a*b')/ b**2\n",
    "    # use normal division for the top, and equation (12) for the bottom\n",
    "    def __truediv__(self, other):\n",
    "        return duple(self.top / other.top, (self.bottom * other.top - self.top * other.bottom) / other.top**2)\n",
    "\n",
    "    def __repr__(self):\n",
    "        return \"[\"+ str(self.top) + \",\" + str(self.bottom) + \"]\"\n",
    "    \n",
    "    def __str__(self):\n",
    "        return \"[\" + str(self.top) + \",\" + str(self.bottom) + \"]\"\n",
    "    \n",
    "    def __neg__(self):\n",
    "        return -self.top, -self.bottom\n",
    "    \n",
    "    def __pos__(self):\n",
    "        return +self.top, +self.bottom\n",
    "    \n",
    "    \n",
    "\n",
    "    \n",
    "    "
   ]
  },
  {
   "cell_type": "code",
   "execution_count": 129,
   "id": "c8c97369",
   "metadata": {},
   "outputs": [
    {
     "data": {
      "text/plain": [
       "[4,6]"
      ]
     },
     "execution_count": 129,
     "metadata": {},
     "output_type": "execute_result"
    }
   ],
   "source": [
    "x = duple(1,2)\n",
    "y = duple(3,4)\n",
    "z = x + y\n",
    "z"
   ]
  },
  {
   "cell_type": "code",
   "execution_count": 130,
   "id": "5630a21c",
   "metadata": {},
   "outputs": [
    {
     "data": {
      "text/plain": [
       "(-1, -2)"
      ]
     },
     "execution_count": 130,
     "metadata": {},
     "output_type": "execute_result"
    }
   ],
   "source": [
    "-x"
   ]
  },
  {
   "cell_type": "code",
   "execution_count": 131,
   "id": "30b7f9f4",
   "metadata": {},
   "outputs": [
    {
     "data": {
      "text/plain": [
       "(-3, -4)"
      ]
     },
     "execution_count": 131,
     "metadata": {},
     "output_type": "execute_result"
    }
   ],
   "source": [
    "-y"
   ]
  },
  {
   "cell_type": "code",
   "execution_count": 132,
   "id": "f55b3b3b",
   "metadata": {},
   "outputs": [
    {
     "data": {
      "text/plain": [
       "[-2,-2]"
      ]
     },
     "execution_count": 132,
     "metadata": {},
     "output_type": "execute_result"
    }
   ],
   "source": [
    "x - y"
   ]
  },
  {
   "cell_type": "code",
   "execution_count": 133,
   "id": "259b4463",
   "metadata": {},
   "outputs": [],
   "source": [
    "x = 1.2\n",
    "One = duple(1., 0.)"
   ]
  },
  {
   "cell_type": "code",
   "execution_count": null,
   "id": "e41bfd91",
   "metadata": {},
   "outputs": [],
   "source": []
  }
 ],
 "metadata": {
  "kernelspec": {
   "display_name": "Python 3 (ipykernel)",
   "language": "python",
   "name": "python3"
  },
  "language_info": {
   "codemirror_mode": {
    "name": "ipython",
    "version": 3
   },
   "file_extension": ".py",
   "mimetype": "text/x-python",
   "name": "python",
   "nbconvert_exporter": "python",
   "pygments_lexer": "ipython3",
   "version": "3.10.9"
  }
 },
 "nbformat": 4,
 "nbformat_minor": 5
}
