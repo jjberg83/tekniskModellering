{
  "cells": [
    {
      "cell_type": "markdown",
      "source": [
        "#Project 1"
      ],
      "metadata": {
        "id": "AR5SIOn7G5Fd"
      }
    },
    {
      "cell_type": "markdown",
      "source": [
        "Made by: Andreas Faye Werner and Jørund Jenssen Berg\n",
        "\n",
        "\n",
        "#Abstract\n",
        "\n",
        "In Project 1 we started off by seeing how numerical errors can occur in software development, due to the constraints computers have in the way they store numbers in memory (essentially they have only 64 bits available for storing numbers, and are restricted by this fact). Next we looked at the differences between Python lists and arrays using the NumPy library. They might appear to be the same thing, but their uses vary quite much. Lists basically rely more on loops, whereas NumPy arrays do this in a more efficient way. Afterwards we looked at how we could treat mathematical operations and functions either in a programmatically functionally approach, vs the object oriented way of doing it. Both have their advantages, but the object oriented way might be more secure (we don´t have to worry about parameters being passed into different functions). As a final bonus, we did the last project, where we built a class called duple from scratch, where we added a lot of functionality to simulate derivates.\n",
        "\n",
        "\n",
        "#Introduction\n",
        "\n",
        "Knowing the limitations of round off errors and truncation due to numerical errors whilst storing numbers in computers, might seem insignificant, but can have huge effects in how programs effect the real world. It´s not hard to imagine the problems round off errors could have in banking systems, or in space flight programs! Knowing the limitations and benefits of using Python lists vs NumPy array is also a key skill in technical modelling. The same thing can be said about knowing the limitations and benefits of functional vs object oriented programming. Both have their use cases, and in this project we have showed how the object oriented approach might be easier in the use cases in this project.\n",
        "\n",
        "Our approach has basically been just to follow the instructions in the project brief!"
      ],
      "metadata": {
        "id": "OFGmW2ZCGagH"
      }
    },
    {
      "cell_type": "markdown",
      "metadata": {
        "id": "bGMLeWXGV_nt"
      },
      "source": [
        "#1. Exercise 1: Finite-precision arithmetic"
      ]
    },
    {
      "cell_type": "markdown",
      "metadata": {
        "id": "k8LLea-MW-k1"
      },
      "source": [
        "##Part 1:"
      ]
    },
    {
      "cell_type": "code",
      "execution_count": null,
      "metadata": {
        "colab": {
          "base_uri": "https://localhost:8080/"
        },
        "id": "GuRZ9IhpV4DO",
        "outputId": "7b1a34c3-74a4-4bc1-d6a3-c0fb07bfd724"
      },
      "outputs": [
        {
          "output_type": "execute_result",
          "data": {
            "text/plain": [
              "sys.float_info(max=1.7976931348623157e+308, max_exp=1024, max_10_exp=308, min=2.2250738585072014e-308, min_exp=-1021, min_10_exp=-307, dig=15, mant_dig=53, epsilon=2.220446049250313e-16, radix=2, rounds=1)"
            ]
          },
          "metadata": {},
          "execution_count": 6
        }
      ],
      "source": [
        "import sys\n",
        "sys.float_info"
      ]
    },
    {
      "cell_type": "markdown",
      "metadata": {
        "id": "fL8vhL8dYkVq"
      },
      "source": [
        "max: The maximum representable positive float.\n",
        "<br>\n",
        "min: The minimum representable positive float.\n",
        "<br>\n",
        "epsilon: The difference between 1 and the smallest decimal greater than 1, that is representable as a float."
      ]
    },
    {
      "cell_type": "markdown",
      "metadata": {
        "id": "J_MCT7DLca3K"
      },
      "source": [
        "##Part 2:"
      ]
    },
    {
      "cell_type": "markdown",
      "metadata": {
        "id": "rK74GPX8nYmw"
      },
      "source": [
        "Epsilon = 2^-52\n",
        "<br>\n",
        "1.00....01\n",
        "<br>\n",
        "51 zeroes.\n",
        "<br>\n",
        "\n",
        "\n"
      ]
    },
    {
      "cell_type": "code",
      "execution_count": null,
      "metadata": {
        "colab": {
          "base_uri": "https://localhost:8080/"
        },
        "id": "CjYGm-n_saGX",
        "outputId": "9923ba65-c015-43b4-dcd7-a0a566f1be92"
      },
      "outputs": [
        {
          "output_type": "execute_result",
          "data": {
            "text/plain": [
              "2.220446049250313e-16"
            ]
          },
          "metadata": {},
          "execution_count": 7
        }
      ],
      "source": [
        "2**-52"
      ]
    },
    {
      "cell_type": "markdown",
      "metadata": {
        "id": "cTzYz_KHq82Y"
      },
      "source": [
        "Max = (2-2^-52)*2^1023\n",
        "<br>\n",
        "1.11....1\n",
        "<br>\n",
        "52 times."
      ]
    },
    {
      "cell_type": "code",
      "execution_count": null,
      "metadata": {
        "colab": {
          "base_uri": "https://localhost:8080/"
        },
        "id": "BsRUm3vCsUBU",
        "outputId": "572bebe9-a2ef-41ca-8c4e-bc59fa3c37c1"
      },
      "outputs": [
        {
          "output_type": "execute_result",
          "data": {
            "text/plain": [
              "1.7976931348623157e+308"
            ]
          },
          "metadata": {},
          "execution_count": 8
        }
      ],
      "source": [
        "(2-2**-52)*2**1023"
      ]
    },
    {
      "cell_type": "markdown",
      "metadata": {
        "id": "jkYLIEpeq56H"
      },
      "source": [
        "1.00....0 * 2^-1022\n",
        "<br>\n",
        "52 zeroes\n",
        "<br>\n",
        "Min = 2^-1022"
      ]
    },
    {
      "cell_type": "code",
      "execution_count": null,
      "metadata": {
        "colab": {
          "base_uri": "https://localhost:8080/"
        },
        "id": "dqjkaK_Ip4qj",
        "outputId": "6327ec79-f39d-4795-e99c-88d14ce0abd9"
      },
      "outputs": [
        {
          "output_type": "execute_result",
          "data": {
            "text/plain": [
              "2.2250738585072014e-308"
            ]
          },
          "metadata": {},
          "execution_count": 9
        }
      ],
      "source": [
        "2**-1022"
      ]
    },
    {
      "cell_type": "markdown",
      "metadata": {
        "id": "sfZ_hauRsekD"
      },
      "source": [
        "##Part 3:"
      ]
    },
    {
      "cell_type": "code",
      "execution_count": null,
      "metadata": {
        "colab": {
          "base_uri": "https://localhost:8080/"
        },
        "id": "peAxBmCls38i",
        "outputId": "96eff3c6-f7a9-4d74-bc08-97996fdb9c34"
      },
      "outputs": [
        {
          "output_type": "execute_result",
          "data": {
            "text/plain": [
              "False"
            ]
          },
          "metadata": {},
          "execution_count": 10
        }
      ],
      "source": [
        "0.1 + 0.2 == 0.3"
      ]
    },
    {
      "cell_type": "markdown",
      "metadata": {
        "id": "HA0gxANns7sH"
      },
      "source": [
        "Some numbers cant be represtented exact in binary.\n",
        "<br>\n",
        "For example 0.1 cant be represented excact in binary, because 1/10 cant be represented as a power of 2."
      ]
    },
    {
      "cell_type": "markdown",
      "metadata": {
        "id": "gt3ZU55bueM9"
      },
      "source": [
        "##Part 4:"
      ]
    },
    {
      "cell_type": "markdown",
      "metadata": {
        "id": "Bguj6rZOupYU"
      },
      "source": [
        "== or != is not a good way to compare floating-point numbers. The reason for this is precision errors in rounding up floats due to limited space in binary digits when representing floating point numbers."
      ]
    },
    {
      "cell_type": "markdown",
      "metadata": {
        "id": "59IHJ-cdwrLH"
      },
      "source": [
        "abs(a-b) < var. Where \"a\" and \"b\" is the floating point numbers we want to compare, and \"var\" is a value we choose as a threshold (for example 1.0*10^-6)."
      ]
    },
    {
      "cell_type": "markdown",
      "metadata": {
        "id": "VVoIZCDnysgP"
      },
      "source": [
        "#2. Exercise 2: Get up to speed with NumPy"
      ]
    },
    {
      "cell_type": "markdown",
      "metadata": {
        "id": "RKo-jVg_6DmR"
      },
      "source": [
        "##Part 1:"
      ]
    },
    {
      "cell_type": "code",
      "execution_count": null,
      "metadata": {
        "colab": {
          "base_uri": "https://localhost:8080/"
        },
        "id": "tzstS8F5zl9U",
        "outputId": "b953c266-a868-4b31-8029-644f3339cf47"
      },
      "outputs": [
        {
          "output_type": "stream",
          "name": "stdout",
          "text": [
            "<class 'numpy.ndarray'>\n",
            "[1.         1.11751907 1.24884887 1.39561243 1.5596235  1.742909\n",
            " 1.94773404 2.17662993 2.43242545 2.71828183]\n",
            "[1.         0.89483932 0.8007374  0.71653131 0.64118039 0.57375342\n",
            " 0.51341712 0.45942582 0.41111229 0.36787944]\n"
          ]
        }
      ],
      "source": [
        "import numpy as np\n",
        "\n",
        "x = np.linspace(0,1,10)\n",
        "print(type(x))\n",
        "x_exp = np.exp(x)\n",
        "x_exp_negative = np.exp(-1*x)\n",
        "\n",
        "print(x_exp)\n",
        "print(x_exp_negative)\n"
      ]
    },
    {
      "cell_type": "code",
      "execution_count": null,
      "metadata": {
        "colab": {
          "base_uri": "https://localhost:8080/"
        },
        "id": "ImK52nRd0b9m",
        "outputId": "c2591de1-ab39-492f-e5ea-2a3ab5cf93c7"
      },
      "outputs": [
        {
          "output_type": "stream",
          "name": "stdout",
          "text": [
            "<class 'list'>\n",
            "[1.         1.11751907 1.24884887 1.39561243 1.5596235  1.742909\n",
            " 1.94773404 2.17662993 2.43242545 2.71828183]\n",
            "[]\n"
          ]
        }
      ],
      "source": [
        "x = np.linspace(0,1,10).tolist()\n",
        "print(type(x))\n",
        "x_exp = np.exp(x)\n",
        "x_exp_negative = np.exp(-1*x)\n",
        "x_exp = np.exp(x)\n",
        "\n",
        "print(x_exp)\n",
        "print(x_exp_negative)\n"
      ]
    },
    {
      "cell_type": "markdown",
      "metadata": {
        "id": "QMQ4pJQK4lAW"
      },
      "source": [
        "Multiplication works different on NumPy.Arrays and python lists.\n",
        "<br>\n",
        "With NumPy.Arrays every element in the array is multiplied with the factor.\n",
        "<br>\n",
        "Multiplying a factor with a python list modifies the list itself and not the elements within it.\n",
        "<br>\n",
        "When we dont multiply the list and array with a factor, they behave the same using the exp function.\n",
        "<br>\n",
        "However when we multiply it with -1, the output is different."
      ]
    },
    {
      "cell_type": "markdown",
      "metadata": {
        "id": "PxEDc7QF5q7p"
      },
      "source": [
        "When using a funcion on all element in a native Python list, we would use a loop and feed each element in the list into the function."
      ]
    },
    {
      "cell_type": "markdown",
      "metadata": {
        "id": "3dt8vead6Bjk"
      },
      "source": [
        "##Part 2:"
      ]
    },
    {
      "cell_type": "code",
      "execution_count": null,
      "metadata": {
        "colab": {
          "base_uri": "https://localhost:8080/"
        },
        "id": "cRc1WOR-6YgD",
        "outputId": "82742b8e-6e1f-482d-d5b5-61749862cfaa"
      },
      "outputs": [
        {
          "output_type": "execute_result",
          "data": {
            "text/plain": [
              "array([0., 0., 0., 0., 0., 0., 0., 0., 0., 0., 0., 0., 0., 0., 0., 0., 0.,\n",
              "       0., 0., 0.])"
            ]
          },
          "metadata": {},
          "execution_count": 13
        }
      ],
      "source": [
        "np.zeros(20)"
      ]
    },
    {
      "cell_type": "markdown",
      "metadata": {
        "id": "GwE1MZWT6bWF"
      },
      "source": [
        "Makes an array of size twenty filled with zeroes of type numpy.float64."
      ]
    },
    {
      "cell_type": "code",
      "execution_count": null,
      "metadata": {
        "colab": {
          "base_uri": "https://localhost:8080/"
        },
        "id": "w8JZW9g06xew",
        "outputId": "bc01d89c-a491-45bd-c69d-cc03fa7490be"
      },
      "outputs": [
        {
          "output_type": "execute_result",
          "data": {
            "text/plain": [
              "array([1., 1., 1., 1., 1., 1., 1., 1., 1., 1., 1., 1., 1., 1., 1., 1., 1.,\n",
              "       1., 1., 1.])"
            ]
          },
          "metadata": {},
          "execution_count": 14
        }
      ],
      "source": [
        "np.ones(20)"
      ]
    },
    {
      "cell_type": "markdown",
      "metadata": {
        "id": "3d1yZ2vI6z59"
      },
      "source": [
        "Makes an array of size twenty filled with ones of type numpy.float64."
      ]
    },
    {
      "cell_type": "code",
      "execution_count": null,
      "metadata": {
        "colab": {
          "base_uri": "https://localhost:8080/"
        },
        "id": "FeoC2TNH67Jx",
        "outputId": "f1dd2874-bb0b-47e1-fea6-79b453b3e587"
      },
      "outputs": [
        {
          "output_type": "execute_result",
          "data": {
            "text/plain": [
              "array([ 0.,  1.,  2.,  3.,  4.,  5.,  6.,  7.,  8.,  9., 10.])"
            ]
          },
          "metadata": {},
          "execution_count": 15
        }
      ],
      "source": [
        "np.linspace(0, 10, 11)"
      ]
    },
    {
      "cell_type": "markdown",
      "metadata": {
        "id": "aSjOFj9-7NcF"
      },
      "source": [
        "Makes an array filled with evenly spaced numpy.float64 within the interval [0,10]"
      ]
    },
    {
      "cell_type": "code",
      "execution_count": null,
      "metadata": {
        "colab": {
          "base_uri": "https://localhost:8080/"
        },
        "id": "v9l-yzpc772J",
        "outputId": "b13ebdb9-d63b-40be-c073-4e07c78dc8f7"
      },
      "outputs": [
        {
          "output_type": "execute_result",
          "data": {
            "text/plain": [
              "array([0.        , 0.90909091, 1.81818182, 2.72727273, 3.63636364,\n",
              "       4.54545455, 5.45454545, 6.36363636, 7.27272727, 8.18181818,\n",
              "       9.09090909])"
            ]
          },
          "metadata": {},
          "execution_count": 16
        }
      ],
      "source": [
        "np.linspace(0, 10, 11, endpoint=False)"
      ]
    },
    {
      "cell_type": "markdown",
      "metadata": {
        "id": "bA9IQbR28AZA"
      },
      "source": [
        "Makes an array filled with evenly spaced numpy.float64 within the interval [0 ,10>"
      ]
    },
    {
      "cell_type": "code",
      "execution_count": null,
      "metadata": {
        "colab": {
          "base_uri": "https://localhost:8080/"
        },
        "id": "Ikp4nb_p8MVF",
        "outputId": "4da6608e-8ab3-4a4f-999b-a5bfb6aab368"
      },
      "outputs": [
        {
          "output_type": "execute_result",
          "data": {
            "text/plain": [
              "array([ 2,  4,  6,  8, 10])"
            ]
          },
          "metadata": {},
          "execution_count": 17
        }
      ],
      "source": [
        "vector = np.arange(5) + 1\n",
        "2*vector"
      ]
    },
    {
      "cell_type": "markdown",
      "metadata": {
        "id": "VUuqsZNu8VFQ"
      },
      "source": [
        "First it makes an array containing values [0, 1, 2, 3, 4]\n",
        "<br>\n",
        "add 1 to every element in the array, so it becomes [1, 2, 3, 4, 5]\n",
        "<br>\n",
        "multiplies every element with 2, giving us the array [2, 4, 6, 8, 10]\n"
      ]
    },
    {
      "cell_type": "code",
      "execution_count": null,
      "metadata": {
        "id": "uiNsHijd8xUR",
        "colab": {
          "base_uri": "https://localhost:8080/"
        },
        "outputId": "f25fd73e-4c0b-4f88-aaa5-dbe201c1f9be"
      },
      "outputs": [
        {
          "output_type": "execute_result",
          "data": {
            "text/plain": [
              "[0.0,\n",
              " 0.0,\n",
              " 0.0,\n",
              " 0.0,\n",
              " 0.0,\n",
              " 0.0,\n",
              " 0.0,\n",
              " 0.0,\n",
              " 0.0,\n",
              " 0.0,\n",
              " 0.0,\n",
              " 0.0,\n",
              " 0.0,\n",
              " 0.0,\n",
              " 0.0,\n",
              " 0.0,\n",
              " 0.0,\n",
              " 0.0,\n",
              " 0.0,\n",
              " 0.0]"
            ]
          },
          "metadata": {},
          "execution_count": 18
        }
      ],
      "source": [
        "[float(0)] * 20"
      ]
    },
    {
      "cell_type": "code",
      "execution_count": null,
      "metadata": {
        "id": "6cXh0Anv85qZ",
        "colab": {
          "base_uri": "https://localhost:8080/"
        },
        "outputId": "a68d6404-6fbf-43eb-afe9-ef23455045a8"
      },
      "outputs": [
        {
          "output_type": "execute_result",
          "data": {
            "text/plain": [
              "[1.0,\n",
              " 1.0,\n",
              " 1.0,\n",
              " 1.0,\n",
              " 1.0,\n",
              " 1.0,\n",
              " 1.0,\n",
              " 1.0,\n",
              " 1.0,\n",
              " 1.0,\n",
              " 1.0,\n",
              " 1.0,\n",
              " 1.0,\n",
              " 1.0,\n",
              " 1.0,\n",
              " 1.0,\n",
              " 1.0,\n",
              " 1.0,\n",
              " 1.0,\n",
              " 1.0]"
            ]
          },
          "metadata": {},
          "execution_count": 19
        }
      ],
      "source": [
        "[float(1)] * 20"
      ]
    },
    {
      "cell_type": "code",
      "execution_count": null,
      "metadata": {
        "id": "Sf2sGOXl9DDs",
        "colab": {
          "base_uri": "https://localhost:8080/"
        },
        "outputId": "7da969e5-ef81-4197-9765-9b1d0b1289af"
      },
      "outputs": [
        {
          "output_type": "execute_result",
          "data": {
            "text/plain": [
              "[0.0, 1.0, 2.0, 3.0, 4.0, 5.0, 6.0, 7.0, 8.0, 9.0, 10.0]"
            ]
          },
          "metadata": {},
          "execution_count": 20
        }
      ],
      "source": [
        "[float(i) for i in range(11)]"
      ]
    },
    {
      "cell_type": "code",
      "execution_count": null,
      "metadata": {
        "id": "jTSCEtRT9Xw9",
        "colab": {
          "base_uri": "https://localhost:8080/"
        },
        "outputId": "9699280a-0676-4185-9061-4e2c529526c0"
      },
      "outputs": [
        {
          "output_type": "execute_result",
          "data": {
            "text/plain": [
              "[0.0,\n",
              " 0.9090909090909091,\n",
              " 1.8181818181818181,\n",
              " 2.727272727272727,\n",
              " 3.6363636363636362,\n",
              " 4.545454545454546,\n",
              " 5.454545454545454,\n",
              " 6.363636363636363,\n",
              " 7.2727272727272725,\n",
              " 8.181818181818182,\n",
              " 9.090909090909092]"
            ]
          },
          "metadata": {},
          "execution_count": 21
        }
      ],
      "source": [
        "array = []\n",
        "for i in range(11):\n",
        "  array.append(float(i*10/11))\n",
        "\n",
        "array"
      ]
    },
    {
      "cell_type": "code",
      "execution_count": null,
      "metadata": {
        "colab": {
          "base_uri": "https://localhost:8080/"
        },
        "id": "-1J7Tgr--OIZ",
        "outputId": "2cbbce71-fc1f-4554-bccf-654a708edebd"
      },
      "outputs": [
        {
          "output_type": "execute_result",
          "data": {
            "text/plain": [
              "[2, 4, 6, 8, 10]"
            ]
          },
          "metadata": {},
          "execution_count": 22
        }
      ],
      "source": [
        "#fast method\n",
        "vector = [2*i for i in range(1,6)]\n",
        "\n",
        "# all steps\n",
        "\n",
        "vector = [i for i in range(0,5)]\n",
        "for i in vector:\n",
        "  vector[i] = vector[i]+1\n",
        "\n",
        "for i in vector:\n",
        "  vector[i-1] = vector[i-1] * 2\n",
        "\n",
        "vector"
      ]
    },
    {
      "cell_type": "markdown",
      "metadata": {
        "id": "zIYqP0Ew_p0s"
      },
      "source": [
        "##Part 3:"
      ]
    },
    {
      "cell_type": "code",
      "execution_count": null,
      "metadata": {
        "colab": {
          "base_uri": "https://localhost:8080/"
        },
        "id": "FQ-TPfoZ_u4D",
        "outputId": "18796f83-e83b-4e0e-ad1e-dc6fa905d821"
      },
      "outputs": [
        {
          "output_type": "stream",
          "name": "stdout",
          "text": [
            "There are 7 non-zero numbers in the array.\n",
            "[False False False False False  True False False]\n",
            "[ True  True False  True False  True  True False]\n",
            "[False False False False  True  True False False]\n"
          ]
        }
      ],
      "source": [
        "array_of_numbers = np.array([4, 8, 15, 16, 23, 42, 0, 5])\n",
        "nnz = np.count_nonzero(array_of_numbers)\n",
        "print(f'There are {nnz} non-zero numbers in the array.')\n",
        "is_even = (array_of_numbers % 2 == 0)\n",
        "is_greater_than_17 = (array_of_numbers > 17)\n",
        "is_even_and_greater_than_17 = is_even & is_greater_than_17\n",
        "\n",
        "print(is_even_and_greater_than_17)\n",
        "print(is_even)\n",
        "print(is_greater_than_17)"
      ]
    },
    {
      "cell_type": "code",
      "execution_count": null,
      "metadata": {
        "colab": {
          "base_uri": "https://localhost:8080/",
          "height": 197
        },
        "id": "-4TQUl78_-EQ",
        "outputId": "6f27c8d7-91ca-473d-b505-d7eb8cd552ae"
      },
      "outputs": [
        {
          "output_type": "error",
          "ename": "ValueError",
          "evalue": "ignored",
          "traceback": [
            "\u001b[0;31m---------------------------------------------------------------------------\u001b[0m",
            "\u001b[0;31mValueError\u001b[0m                                Traceback (most recent call last)",
            "\u001b[0;32m<ipython-input-24-635e7ec0e534>\u001b[0m in \u001b[0;36m<cell line: 1>\u001b[0;34m()\u001b[0m\n\u001b[0;32m----> 1\u001b[0;31m \u001b[0mis_even_and_greater_than_17\u001b[0m \u001b[0;34m=\u001b[0m \u001b[0mis_even\u001b[0m \u001b[0;32mand\u001b[0m \u001b[0mis_greater_than_17\u001b[0m\u001b[0;34m\u001b[0m\u001b[0;34m\u001b[0m\u001b[0m\n\u001b[0m\u001b[1;32m      2\u001b[0m \u001b[0mprint\u001b[0m\u001b[0;34m(\u001b[0m\u001b[0marray_of_numbers\u001b[0m \u001b[0;34m%\u001b[0m \u001b[0;36m2\u001b[0m \u001b[0;34m==\u001b[0m \u001b[0;36m0\u001b[0m \u001b[0;34m&\u001b[0m \u001b[0marray_of_numbers\u001b[0m \u001b[0;34m>\u001b[0m \u001b[0;36m17\u001b[0m\u001b[0;34m)\u001b[0m\u001b[0;34m\u001b[0m\u001b[0;34m\u001b[0m\u001b[0m\n",
            "\u001b[0;31mValueError\u001b[0m: The truth value of an array with more than one element is ambiguous. Use a.any() or a.all()"
          ]
        }
      ],
      "source": [
        "is_even_and_greater_than_17 = is_even and is_greater_than_17\n",
        "print(array_of_numbers % 2 == 0 & array_of_numbers > 17)"
      ]
    },
    {
      "cell_type": "markdown",
      "metadata": {
        "id": "frmtvkbjBfCe"
      },
      "source": [
        "NumPy dont let you evaluate an array in a Boolean context, and will always raise an ValueError when using \"and\" or \"& \"between to arrays filled with booleans."
      ]
    },
    {
      "cell_type": "code",
      "execution_count": null,
      "metadata": {
        "colab": {
          "base_uri": "https://localhost:8080/"
        },
        "id": "jFqLd164BxYb",
        "outputId": "a1da8d5f-fa76-42af-8a6c-06244d821781"
      },
      "outputs": [
        {
          "output_type": "stream",
          "name": "stdout",
          "text": [
            "[False False False False False  True False False]\n"
          ]
        }
      ],
      "source": [
        "is_even_and_greater_than_17 = np.logical_and(is_even,is_greater_than_17)\n",
        "print(np.logical_and(array_of_numbers % 2 == 0, array_of_numbers > 17))\n"
      ]
    },
    {
      "cell_type": "code",
      "execution_count": null,
      "metadata": {
        "colab": {
          "base_uri": "https://localhost:8080/"
        },
        "id": "ZfDAyC92Cgpt",
        "outputId": "11b5e290-1e4c-4351-9847-79b90f5727ba"
      },
      "outputs": [
        {
          "output_type": "execute_result",
          "data": {
            "text/plain": [
              "array([4, 5])"
            ]
          },
          "metadata": {},
          "execution_count": 26
        }
      ],
      "source": [
        "np.where(array_of_numbers > 17)[0]"
      ]
    },
    {
      "cell_type": "markdown",
      "metadata": {
        "id": "AyagRitEDgjn"
      },
      "source": [
        "Returns an array with the index of the elements bigger than 17."
      ]
    },
    {
      "cell_type": "code",
      "execution_count": null,
      "metadata": {
        "colab": {
          "base_uri": "https://localhost:8080/"
        },
        "id": "svSBBLCKDSMf",
        "outputId": "8dc90c20-8a2f-4e7f-b809-86c103d1455f"
      },
      "outputs": [
        {
          "output_type": "execute_result",
          "data": {
            "text/plain": [
              "array([0, 0, 0, 0, 1, 1, 0, 0])"
            ]
          },
          "metadata": {},
          "execution_count": 27
        }
      ],
      "source": [
        "np.where(array_of_numbers > 17, 1, 0)"
      ]
    },
    {
      "cell_type": "markdown",
      "metadata": {
        "id": "yOGzRh16Dtck"
      },
      "source": [
        "Returns an array where elements thats bigger than 17 gets a 1, and elements smaller or equal to 17 gets a 0."
      ]
    },
    {
      "cell_type": "markdown",
      "metadata": {
        "id": "rQowK84xj7jo"
      },
      "source": [
        "#Exercise 3, Part 1: Finite Differences (FD) with Functions"
      ]
    },
    {
      "cell_type": "code",
      "execution_count": null,
      "metadata": {
        "id": "8OsGFYoqjils"
      },
      "outputs": [],
      "source": [
        "def f(x, a = 0.1, b = 10):\n",
        "  return np.sin(b*x)*np.exp(-a*x*x)\n"
      ]
    },
    {
      "cell_type": "markdown",
      "metadata": {
        "id": "rLTe2w45kGeU"
      },
      "source": [
        "##Part 1:"
      ]
    },
    {
      "cell_type": "code",
      "execution_count": null,
      "metadata": {
        "id": "kpU-sjz-kJZS"
      },
      "outputs": [],
      "source": [
        "import matplotlib.pyplot as plt\n",
        "\n",
        "def plot_f(f, start, stop):\n",
        "  x = np.linspace(start,stop, num = 1000)\n",
        "  plt.grid()\n",
        "  plt.plot(x,f(x), label=\"A Gaussian wave packet with a = 0.1 and b = 10\")\n",
        "  plt.legend()\n",
        "\n"
      ]
    },
    {
      "cell_type": "code",
      "execution_count": null,
      "metadata": {
        "colab": {
          "base_uri": "https://localhost:8080/",
          "height": 430
        },
        "id": "HrdTgExlk843",
        "outputId": "4f7c735b-7abd-4e6e-8487-429e40c90f11"
      },
      "outputs": [
        {
          "output_type": "display_data",
          "data": {
            "text/plain": [
              "<Figure size 640x480 with 1 Axes>"
            ],
            "image/png": "[encoded data removed]"
          },
          "metadata": {}
        }
      ],
      "source": [
        "plot_f(f,-10,10)"
      ]
    },
    {
      "cell_type": "markdown",
      "metadata": {
        "id": "FcJYKwpel6EN"
      },
      "source": [
        "##Part 2:"
      ]
    },
    {
      "cell_type": "code",
      "execution_count": null,
      "metadata": {
        "id": "Bh-bsW44l5sS"
      },
      "outputs": [],
      "source": [
        "def f_derived(x, a = 0.1, b = 10 ):\n",
        "    return b*np.cos(b*x)*np.exp(-a*x*x) - 2*a*x*np.sin(b*x) * np.exp(-a*x*x)\n"
      ]
    },
    {
      "cell_type": "markdown",
      "metadata": {
        "id": "yUwbLJpCol6K"
      },
      "source": [
        "##Part 3:"
      ]
    },
    {
      "cell_type": "code",
      "execution_count": null,
      "metadata": {
        "id": "q561URiwopXg"
      },
      "outputs": [],
      "source": [
        "def f_derived_num(f,x,h):\n",
        "  return (f(x+h)-f(x))/h"
      ]
    },
    {
      "cell_type": "code",
      "execution_count": null,
      "metadata": {
        "colab": {
          "base_uri": "https://localhost:8080/"
        },
        "id": "QmmhhdyYuFl1",
        "outputId": "7019f5f9-9ec9-4eb2-d87f-99ec9694ad9a"
      },
      "outputs": [
        {
          "output_type": "stream",
          "name": "stdout",
          "text": [
            "Derivative in 1 with h=1e-2: -7.220096595246589\n",
            "Derivative in 1 with h=1e-3: -7.467490688372713\n",
            "Derivative in 1 with h=1e-4: -7.491164769848346\n",
            "The analytical derivative in 1: -7.493783027703379\n"
          ]
        }
      ],
      "source": [
        "print(f\"Derivative in 1 with h=1e-2: {f_derived_num(f,1,0.01)}\")\n",
        "print(f\"Derivative in 1 with h=1e-3: {f_derived_num(f,1,0.001)}\")\n",
        "print(f\"Derivative in 1 with h=1e-4: {f_derived_num(f,1,0.0001)}\")\n",
        "print(f\"The analytical derivative in 1: {f_derived(1)}\")"
      ]
    },
    {
      "cell_type": "markdown",
      "metadata": {
        "id": "r2lc1CedvSdo"
      },
      "source": [
        "We can se that the numerical derivative moves toward the analytical derivative when h becomes smaller. This has also been double checked with geogebra."
      ]
    },
    {
      "cell_type": "code",
      "execution_count": null,
      "metadata": {
        "colab": {
          "base_uri": "https://localhost:8080/"
        },
        "id": "ouSMz4DUvj1j",
        "outputId": "540b78b3-02be-406a-911d-2a413b2c6504"
      },
      "outputs": [
        {
          "output_type": "stream",
          "name": "stdout",
          "text": [
            "Derivative in 1 with h=1e-2: -7.48156774953081\n",
            "Derivative in 1 with h=1e-3: -7.493660815401176\n",
            "Derivative in 1 with h=1e-4: -7.493781805570087\n"
          ]
        }
      ],
      "source": [
        "def f_derived_central(f,x,h):\n",
        "  return (f(x+h) - f(x-h))/(2*h)\n",
        "\n",
        "print(f\"Derivative in 1 with h=1e-2: {f_derived_central(f,1,0.01)}\")\n",
        "print(f\"Derivative in 1 with h=1e-3: {f_derived_central(f,1,0.001)}\")\n",
        "print(f\"Derivative in 1 with h=1e-4: {f_derived_central(f,1,0.0001)}\")"
      ]
    },
    {
      "cell_type": "markdown",
      "metadata": {
        "id": "4DCVJJ_Kxeoo"
      },
      "source": [
        "Using the central difference methon we get a closer approximation."
      ]
    },
    {
      "cell_type": "code",
      "execution_count": null,
      "metadata": {
        "colab": {
          "base_uri": "https://localhost:8080/",
          "height": 470
        },
        "id": "dWC9uHeM0JP4",
        "outputId": "261496fb-7f27-4814-f36b-c9d5743c1c4c"
      },
      "outputs": [
        {
          "output_type": "display_data",
          "data": {
            "text/plain": [
              "<Figure size 640x480 with 1 Axes>"
            ],
            "image/png": "[encoded data removed]"
          },
          "metadata": {}
        },
        {
          "output_type": "stream",
          "name": "stdout",
          "text": [
            "The h value that gives the smallest machine error using the forward method: 1e-08\n",
            "The h value that gives the smallest machine error using the central method: 1e-06\n"
          ]
        }
      ],
      "source": [
        "h = np.logspace(-16, 0, 17)\n",
        "\n",
        "machine_error_forward = abs(f_derived(1) - f_derived_num(f,1,h))\n",
        "machine_error_central = abs(f_derived(1) - f_derived_central(f,1,h))\n",
        "\n",
        "plt.xscale(\"log\")\n",
        "plt.yscale(\"log\")\n",
        "plt.scatter(h,machine_error_forward, label=\"Absolute Machine Error using Forward Method\")\n",
        "plt.scatter(h,machine_error_central, label=\"Absolute Machine Error using Central Method\")\n",
        "plt.legend()\n",
        "plt.show()\n",
        "\n",
        "print(f\"The h value that gives the smallest machine error using the forward method: {h[np.argmin(machine_error_forward)]}\")\n",
        "print(f\"The h value that gives the smallest machine error using the central method: {h[np.argmin(machine_error_central)]}\")"
      ]
    },
    {
      "cell_type": "markdown",
      "metadata": {
        "id": "xEDan5Ey3mvf"
      },
      "source": [
        "We clearly see that the central difference method is better. It reaches its lowest machine error faster than the forward method, and continues to be better for a while afterwards as well. For the central difference.\n",
        "\n",
        "The machine error is smalles when h is 1e-08 using the forward method, and 1e-06 when using the central method.\n",
        "<br>\n",
        "This is because the pc no longer can keep track of the difference beetween two extremely small numbers. The diffenerence between the two numbers are at a precision so small that its lower then the epsilon. There is not enough bits to be that precise."
      ]
    },
    {
      "cell_type": "markdown",
      "source": [
        "#Exercise 3, Part 2: FD with Classes"
      ],
      "metadata": {
        "id": "cYQQbAJ98qJq"
      }
    },
    {
      "cell_type": "code",
      "source": [
        "import numpy as np\n",
        "import matplotlib.pyplot as plt\n",
        "\n",
        "class WavePacket:\n",
        "  def __init__(self, a, b):\n",
        "    self.a = a\n",
        "    self.b = b\n",
        "\n",
        "  def f(self, x):\n",
        "    return np.sin(self.b*x)*np.exp(-self.a*x*x)\n",
        "\n",
        "  def plot(self, x_min=-10, x_max=10, dx=0.01):\n",
        "    x = np.arange(x_min, x_max, dx)\n",
        "    y = self.f(x)\n",
        "    fig = plt.figure()\n",
        "    plt.plot(x, y)\n",
        "    plt.grid()\n",
        "\n",
        "  def forward(self, x, h):\n",
        "    return (self.f(x+h) - self.f(x))/h\n",
        "\n",
        "  def central(self, x, h):\n",
        "    return (self.f(x+h) - self.f(x-h))/(2*h)\n",
        "\n",
        "  def analytical(self, x):\n",
        "    return self.b*np.cos(self.b*x)*np.exp(-self.a*x*x) - 2*self.a*x*np.sin(self.b*x) * np.exp(-self.a*x*x)\n",
        "\n",
        "  def plot_abs_error(self, x):\n",
        "      h = np.logspace(-16, 0, 17)\n",
        "      machine_error_forward = abs(self.analytical(x) - self.forward(x,h))\n",
        "      machine_error_central = abs(self.analytical(x) - self.central(x,h))\n",
        "\n",
        "      plt.xscale(\"log\")\n",
        "      plt.yscale(\"log\")\n",
        "      plt.scatter(h,machine_error_forward, label=\"Absolute Machine Error using Forward Method\")\n",
        "      plt.scatter(h,machine_error_central, label=\"Absolute Machine Error using Central Method\")\n",
        "      plt.legend()\n",
        "      plt.show()\n"
      ],
      "metadata": {
        "id": "z00EPILr9YPq"
      },
      "execution_count": null,
      "outputs": []
    },
    {
      "cell_type": "code",
      "source": [
        "WP1 = WavePacket(0.1, 2)\n",
        "WP2 = WavePacket(0.1, 10)\n",
        "\n",
        "x = 1\n",
        "print(WP1.f(x))\n",
        "print(WP2.f(x))\n",
        "\n",
        "WP1.plot()\n",
        "WP2.plot()"
      ],
      "metadata": {
        "colab": {
          "base_uri": "https://localhost:8080/",
          "height": 879
        },
        "id": "LmuYhek1-ccv",
        "outputId": "4c21bd44-2c89-417d-c078-1577289137c3"
      },
      "execution_count": null,
      "outputs": [
        {
          "output_type": "stream",
          "name": "stdout",
          "text": [
            "0.8227663359156917\n",
            "-0.49225065733419177\n"
          ]
        },
        {
          "output_type": "display_data",
          "data": {
            "text/plain": [
              "<Figure size 640x480 with 1 Axes>"
            ],
            "image/png": "[encoded data removed]"
          },
          "metadata": {}
        },
        {
          "output_type": "display_data",
          "data": {
            "text/plain": [
              "<Figure size 640x480 with 1 Axes>"
            ],
            "image/png": "[encoded data removed]"
          },
          "metadata": {}
        }
      ]
    },
    {
      "cell_type": "code",
      "source": [
        "class FancyWavePacket:\n",
        "  def __init__(self, a, b):\n",
        "    self.a = a\n",
        "    self.b = b\n",
        "\n",
        "  def __call__(self, x):\n",
        "    return np.sin(self.b*x)*np.exp(-self.a*x*x)"
      ],
      "metadata": {
        "id": "Or44fbUs_JEv"
      },
      "execution_count": null,
      "outputs": []
    },
    {
      "cell_type": "code",
      "source": [
        "WPF1 = FancyWavePacket(0.1, 2)\n",
        "WPF2 = FancyWavePacket(0.1, 10)\n",
        "\n",
        "x = 1\n",
        "print(WPF1(x))\n",
        "print(WPF2(x))"
      ],
      "metadata": {
        "colab": {
          "base_uri": "https://localhost:8080/"
        },
        "id": "PQy_GTpn_06O",
        "outputId": "4c2ab232-2df8-41bd-aa1a-09b8e6b4ba71"
      },
      "execution_count": null,
      "outputs": [
        {
          "output_type": "stream",
          "name": "stdout",
          "text": [
            "0.8227663359156917\n",
            "-0.49225065733419177\n"
          ]
        }
      ]
    },
    {
      "cell_type": "code",
      "source": [
        "WP2.plot_abs_error(1)"
      ],
      "metadata": {
        "colab": {
          "base_uri": "https://localhost:8080/",
          "height": 434
        },
        "id": "QEPGcmrSHd-2",
        "outputId": "f962dc37-90fb-42b7-eecd-ef89d2915f78"
      },
      "execution_count": null,
      "outputs": [
        {
          "output_type": "display_data",
          "data": {
            "text/plain": [
              "<Figure size 640x480 with 1 Axes>"
            ],
            "image/png": "[encoded data removed]"
          },
          "metadata": {}
        }
      ]
    },
    {
      "cell_type": "markdown",
      "metadata": {
        "id": "zCVmVT0J3TfU"
      },
      "source": [
        "#Exercise 5: Automatic for the people?"
      ]
    },
    {
      "cell_type": "markdown",
      "source": [
        "##CLASS IMPLEMENTATION:"
      ],
      "metadata": {
        "id": "hwpJ4M3V_zT4"
      }
    },
    {
      "cell_type": "code",
      "source": [
        "class duple:\n",
        "  def __init__ (self, top, bottom=0):\n",
        "    self.top = top\n",
        "    self.bottom = bottom\n",
        "\n",
        "  def __add__(self, d):\n",
        "    return duple(self.top + d.top, self.bottom + d.bottom)\n",
        "\n",
        "  def __repr__(self):\n",
        "    return \"[\"+str(self.top)+\", \"+str(self.bottom)+\"]\"\n",
        "\n",
        "  def __str__(self):\n",
        "    return \"[\"+str(self.top)+\", \"+str(self.bottom)+\"]\"\n",
        "\n",
        "  def __neg__(self):\n",
        "    return duple(self.top * -1, self.bottom * -1)\n",
        "\n",
        "  def __pos__(self):\n",
        "    return duple(self.top, self.bottom)\n",
        "\n",
        "  def __sub__(self, d ):\n",
        "    return duple(self.top - d.top, self.bottom - d.bottom)\n",
        "\n",
        "  def __mul__(self, d):\n",
        "    return duple(self.top * d.top, self.bottom * d.top + self.top * d.bottom)\n",
        "\n",
        "  def __truediv__(self, d):\n",
        "    return duple(self.top / d.top, (self.bottom * d.top - self.top * d.bottom)/(d.top**2))"
      ],
      "metadata": {
        "id": "uzrErXWb_yeh"
      },
      "execution_count": null,
      "outputs": []
    },
    {
      "cell_type": "markdown",
      "source": [
        "##Part 2:"
      ],
      "metadata": {
        "id": "SJNGcfpsAHyC"
      }
    },
    {
      "cell_type": "code",
      "execution_count": null,
      "metadata": {
        "colab": {
          "base_uri": "https://localhost:8080/"
        },
        "id": "ggr455F63hRo",
        "outputId": "18678609-7bca-4b4b-8e17-c84e58f99580"
      },
      "outputs": [
        {
          "output_type": "stream",
          "name": "stdout",
          "text": [
            "[-2, -2]\n"
          ]
        }
      ],
      "source": [
        "x = duple(1,2)\n",
        "y = duple(3,4)\n",
        "\n",
        "z = x-y\n",
        "print(z)"
      ]
    },
    {
      "cell_type": "code",
      "source": [
        "x = 1.2\n",
        "One = duple(1.,0.)\n",
        "X = duple(x,1)\n",
        "\n",
        "print(\"auto diff=\", X*X*X)\n",
        "print(\"analytical=\", x*x*x, 3*x*x)\n",
        "\n",
        "print(\"auto diff=\", One/(One+X))\n",
        "print(\"analytical=\", 1/(1+x),-1/(1+x)**2)\n",
        "\n",
        "Exp=duple(np.exp(x), np.exp(x))\n",
        "Sin=duple(np.sin(x), np.cos(x))\n",
        "print(\"auto diff=\", Exp*Sin)\n",
        "print(\"analytical=\", np.exp(x)*np.sin(x), np.exp(x)*np.sin(x)+np.exp(x)*np.cos(x))\n",
        "\n"
      ],
      "metadata": {
        "id": "MutjtVeLAJYH",
        "colab": {
          "base_uri": "https://localhost:8080/"
        },
        "outputId": "363dadb4-e3be-4009-c8c7-8bec85cbe740"
      },
      "execution_count": null,
      "outputs": [
        {
          "output_type": "stream",
          "name": "stdout",
          "text": [
            "auto diff= [1.728, 4.32]\n",
            "analytical= 1.728 4.319999999999999\n",
            "auto diff= [0.45454545454545453, -0.20661157024793386]\n",
            "analytical= 0.45454545454545453 -0.20661157024793386\n",
            "auto diff= [3.0944787419716917, 4.297548854694511]\n",
            "analytical= 3.0944787419716917 4.297548854694511\n"
          ]
        }
      ]
    },
    {
      "cell_type": "markdown",
      "source": [
        "##Part 4:"
      ],
      "metadata": {
        "id": "KcdQqZNDGB5I"
      }
    },
    {
      "cell_type": "code",
      "source": [
        "class dfunction:\n",
        "  def __init__(self, f, df):\n",
        "    self.f = f\n",
        "    self.df = df\n",
        "\n",
        "  def __call__(self, d: duple):\n",
        "    return duple(self.f(d.top), self.df(d.top)*d.bottom)\n",
        "\n",
        "def f(x):\n",
        "  return np.log(x)\n",
        "\n",
        "def df(x):\n",
        "  return 1/x\n",
        "\n",
        "Log=dfunction(f,df)\n",
        "Exp=dfunction(np.exp, np.exp)\n",
        "print(\"auto diff \", Log(One+Exp(X)))\n",
        "print(\"analytical \", np.log(1+np.exp(x)),np.exp(x)/(1+np.exp(x)))"
      ],
      "metadata": {
        "colab": {
          "base_uri": "https://localhost:8080/"
        },
        "id": "voMMjjVhDBo6",
        "outputId": "e0e4e6cd-4bd5-4ec4-808f-8b358628d383"
      },
      "execution_count": null,
      "outputs": [
        {
          "output_type": "stream",
          "name": "stdout",
          "text": [
            "auto diff  [1.4632824673380311, 0.7685247834990176]\n",
            "analytical  1.4632824673380311 0.7685247834990176\n"
          ]
        }
      ]
    },
    {
      "cell_type": "code",
      "source": [
        "a = 0.1\n",
        "b = 10\n",
        "x = 1\n",
        "A = duple(a)\n",
        "B = duple(b)\n",
        "X = duple(x,1)\n",
        "Sin = dfunction(np.sin, np.cos)\n",
        "Exp = dfunction(np.exp, np.exp)\n",
        "\n",
        "\n",
        "print(\"auto diff\", Sin(B*X)*Exp(-A*X*X))\n",
        "print(\"analytical \", np.sin(b*x)*np.exp(-a*x*x),b*np.cos(b*x)*np.exp(-a*x*x)-2*a*x*np.sin(b*x)*np.exp(-a*x*x))"
      ],
      "metadata": {
        "colab": {
          "base_uri": "https://localhost:8080/"
        },
        "id": "G9U4AuvpGDPT",
        "outputId": "ae9e7fea-dee0-4eba-bf12-9395152689fa"
      },
      "execution_count": null,
      "outputs": [
        {
          "output_type": "stream",
          "name": "stdout",
          "text": [
            "auto diff [-0.49225065733419177, -7.493783027703379]\n",
            "analytical  -0.49225065733419177 -7.493783027703379\n"
          ]
        }
      ]
    }
  ],
  "metadata": {
    "colab": {
      "provenance": []
    },
    "kernelspec": {
      "display_name": "Python 3",
      "name": "python3"
    },
    "language_info": {
      "name": "python"
    }
  },
  "nbformat": 4,
  "nbformat_minor": 0
}